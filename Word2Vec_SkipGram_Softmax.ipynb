{
 "cells": [
  {
   "cell_type": "markdown",
   "metadata": {},
   "source": [
    "# Word2Vec"
   ]
  },
  {
   "cell_type": "markdown",
   "metadata": {},
   "source": [
    "# SkipGram Model"
   ]
  },
  {
   "cell_type": "markdown",
   "metadata": {},
   "source": [
    "## Table of Contents"
   ]
  },
  {
   "cell_type": "markdown",
   "metadata": {},
   "source": [
    "1. #### **[Import Corpus for inspection](#import_corpus)**\n",
    "\n",
    "    - [Corpus sample](#corpus_sample)    \n",
    "    \n",
    "2. #### **[Vocabulary word-ID mappings](#word2id)**\n",
    "\n",
    "3. #### **[Generate training samples](#generate_samples)**\n",
    "\n",
    "4. #### **[Loss Function](#loss)**\n",
    "\n",
    "5. #### **[SkipGram model](#model)**\n",
    "\n",
    "6. #### **[Train the model](#train_model)**\n",
    "\n",
    "7. #### **[Evaluate Embeddings quality](#eval_embeds)**"
   ]
  },
  {
   "cell_type": "markdown",
   "metadata": {},
   "source": [
    "Adapted from: <br>\n",
    "\n",
    "Papers / Lectures <br>\n",
    "https://arxiv.org/pdf/1411.2738.pdf <br>\n",
    "https://papers.nips.cc/paper/5021-distributed-representations-of-words-and-phrases-and-their-compositionality.pdf <br>\n",
    "http://web.stanford.edu/class/cs224n/lectures/lecture2.pdf <br>\n",
    "http://mccormickml.com/2016/04/19/word2vec-tutorial-the-skip-gram-model/<br>\n",
    "\n",
    "Code <br>\n",
    "https://iksinc.online/tag/skip-gram-model/ <br>\n",
    "https://index.pocketcluster.io/dsksd-deepnlp-models-pytorch.html <br>\n",
    "https://gist.github.com/lirnli/c6e02efc414b4473abbb8152d303514c <br>\n",
    "https://github.com/LianHaiMiao/pytorch-lesson-zh/blob/master/NLP/py/word2vec.py <br>"
   ]
  },
  {
   "cell_type": "code",
   "execution_count": 1,
   "metadata": {},
   "outputs": [
    {
     "name": "stderr",
     "output_type": "stream",
     "text": [
      "/home/hveiga/Desktop/Data_Science/dl-venv/lib/python3.6/importlib/_bootstrap.py:219: RuntimeWarning: numpy.dtype size changed, may indicate binary incompatibility. Expected 96, got 88\n",
      "  return f(*args, **kwds)\n",
      "/home/hveiga/Desktop/Data_Science/dl-venv/lib/python3.6/importlib/_bootstrap.py:219: RuntimeWarning: numpy.dtype size changed, may indicate binary incompatibility. Expected 96, got 88\n",
      "  return f(*args, **kwds)\n",
      "/home/hveiga/Desktop/Data_Science/dl-venv/lib/python3.6/importlib/_bootstrap.py:219: RuntimeWarning: numpy.ufunc size changed, may indicate binary incompatibility. Expected 192, got 176\n",
      "  return f(*args, **kwds)\n",
      "/home/hveiga/Desktop/Data_Science/dl-venv/lib/python3.6/importlib/_bootstrap.py:219: RuntimeWarning: numpy.dtype size changed, may indicate binary incompatibility. Expected 96, got 88\n",
      "  return f(*args, **kwds)\n",
      "/home/hveiga/Desktop/Data_Science/dl-venv/lib/python3.6/importlib/_bootstrap.py:219: RuntimeWarning: numpy.ufunc size changed, may indicate binary incompatibility. Expected 192, got 176\n",
      "  return f(*args, **kwds)\n"
     ]
    }
   ],
   "source": [
    "import os\n",
    "from time import time\n",
    "%matplotlib inline\n",
    "%load_ext memory_profiler\n",
    "import itertools\n",
    "from scipy.spatial.distance import cosine\n",
    "from matplotlib import pyplot as plt\n",
    "import numpy as np\n",
    "import pandas as pd\n",
    "from collections import deque\n",
    "from sklearn.decomposition import PCA\n",
    "import torch\n",
    "from torch import nn, optim\n",
    "from torch.autograd import Variable\n",
    "from torch.utils.data import Dataset, DataLoader, TensorDataset\n",
    "from torch.nn import functional as F\n",
    "\n",
    "from glob import glob\n",
    "from nltk.corpus import stopwords\n",
    "import spacy\n",
    "nlp = spacy.load('en')\n",
    "from nltk.tokenize import word_tokenize\n",
    "from nltk import FreqDist"
   ]
  },
  {
   "cell_type": "markdown",
   "metadata": {},
   "source": [
    "<a id='import_corpus'></a>\n",
    "## Import corpus for inspection"
   ]
  },
  {
   "cell_type": "code",
   "execution_count": 2,
   "metadata": {},
   "outputs": [],
   "source": [
    "path = './aclImdb/train/pos/*.txt'\n",
    "text = \"\"\n",
    "\n",
    "for filename in glob(path):\n",
    "    with open(filename,'r') as f:\n",
    "        text += \" \" + f.read()\n",
    "              \n",
    "#with open(\"./aclImdb/corpus_all_pos.txt\", \"w+\") as f:\n",
    "#    f.write(text[:75000])\n",
    "#    f.close()"
   ]
  },
  {
   "cell_type": "code",
   "execution_count": 3,
   "metadata": {
    "scrolled": true
   },
   "outputs": [],
   "source": [
    "corpus = [token.text for token in list(nlp.tokenizer(text[:50000]))]\n",
    "# stop_words = set(stopwords.words('english'))\n",
    "# corpus = [w for w in corpus if w not in stop_words]"
   ]
  },
  {
   "cell_type": "markdown",
   "metadata": {},
   "source": [
    "<a id='corpus_sample'></a>\n",
    "### Corpus sample"
   ]
  },
  {
   "cell_type": "code",
   "execution_count": 4,
   "metadata": {},
   "outputs": [
    {
     "name": "stdout",
     "output_type": "stream",
     "text": [
      "length of texts:  10308\n",
      "number of unique words: 2766\n",
      "a sample below\n"
     ]
    },
    {
     "data": {
      "text/plain": [
       "[' ',\n",
       " 'I',\n",
       " \"'m\",\n",
       " 'grateful',\n",
       " 'to',\n",
       " 'Cesar',\n",
       " 'Montano',\n",
       " 'and',\n",
       " 'his',\n",
       " 'crew',\n",
       " 'in',\n",
       " 'reviving',\n",
       " 'the',\n",
       " 'once',\n",
       " '-',\n",
       " 'moribund',\n",
       " 'Visayan',\n",
       " 'film',\n",
       " 'understorey',\n",
       " '.']"
      ]
     },
     "execution_count": 4,
     "metadata": {},
     "output_type": "execute_result"
    }
   ],
   "source": [
    "print('length of texts: ', len(corpus))\n",
    "print('number of unique words:', len(set(corpus)))\n",
    "print('a sample below')\n",
    "corpus[:10]"
   ]
  },
  {
   "cell_type": "code",
   "execution_count": 5,
   "metadata": {},
   "outputs": [],
   "source": [
    "# Word frequency\n",
    "word_frequency = dict(FreqDist(corpus))"
   ]
  },
  {
   "cell_type": "markdown",
   "metadata": {},
   "source": [
    "<a id='word2id'></a>\n",
    "## Vocabulary word-ID mappings"
   ]
  },
  {
   "cell_type": "code",
   "execution_count": 6,
   "metadata": {},
   "outputs": [],
   "source": [
    "# Word - ID mapping\n",
    "word2id = {}\n",
    "for filename in glob(path):\n",
    "    with open(filename,'r') as f:      \n",
    "        for line in f: \n",
    "            tokens = word_tokenize(line)\n",
    "\n",
    "            if word2id:\n",
    "                word2id.update({word:0 for word in tokens})\n",
    "            else:\n",
    "                word2id = {word:0 for word in tokens}\n",
    "\n",
    "for i, (word, value) in enumerate(list(word2id.items())):\n",
    "    word2id[word] = i"
   ]
  },
  {
   "cell_type": "code",
   "execution_count": 7,
   "metadata": {},
   "outputs": [],
   "source": [
    "id2word = {i: word for word, i in word2id.items()}\n",
    "#word_count = len(word2id)"
   ]
  },
  {
   "cell_type": "code",
   "execution_count": 8,
   "metadata": {},
   "outputs": [],
   "source": [
    "# Probability for a given word i in the corpus\n",
    "pow_frequency = np.array(list(word_frequency.values()))**0.75\n",
    "words_pow = sum(pow_frequency) \n",
    "p_wi = pow_frequency / words_pow"
   ]
  },
  {
   "cell_type": "markdown",
   "metadata": {},
   "source": [
    "<a id='generate_samples'></a>\n",
    "## Generate training samples"
   ]
  },
  {
   "cell_type": "markdown",
   "metadata": {},
   "source": [
    "#### Input data sample example"
   ]
  },
  {
   "cell_type": "markdown",
   "metadata": {},
   "source": [
    "<img style=\"float: left;\" src=\"skipgram-input_data_example.png\">"
   ]
  },
  {
   "cell_type": "markdown",
   "metadata": {},
   "source": [
    "The following class will generate 2 matrices: <br><br>\n",
    "**center_words** - list of center (input) word IDs - batch x 1 <br>\n",
    "**context_words** - list of context (neighbour) word IDs - batch x 1 <br>\n",
    "\n",
    "--> The full vocabulary embedding matrix will be generated during training as no indexing should be performed"
   ]
  },
  {
   "cell_type": "markdown",
   "metadata": {},
   "source": [
    "This class uses the Pytorch DataLoader logic, which will allow us to generate batches of observations for training on the fly, reading it from multiple files stored in the disk and doing all the necessary processing. This is memory efficient because only one line of the file is being read at a time instead of reading the whole file into memory. Once a line is read, it is discarded from memory and it moves to the next one.\n",
    "\n",
    "Source: https://pytorch.org/tutorials/beginner/data_loading_tutorial.html"
   ]
  },
  {
   "cell_type": "code",
   "execution_count": 9,
   "metadata": {},
   "outputs": [],
   "source": [
    "class GenerateDataset(Dataset):\n",
    "    def __init__(self, window_size, vocab_map, n_docs, transform=None, random_seed=777):\n",
    "        \n",
    "        word_pair_catch = deque()\n",
    "        word_ids = []\n",
    "        self.center_words = []\n",
    "        self.context_words = []\n",
    "        self.transform = transform\n",
    "        \n",
    "        np.random.seed(random_seed)\n",
    "        torch.manual_seed(random_seed)\n",
    "                \n",
    "        for filename in glob(path)[:n_docs]:\n",
    "            with open(filename,'r') as f:\n",
    "                for line in f:\n",
    "                    word_ids = []\n",
    "                    for word in word_tokenize(line):\n",
    "                        word_ids.append(vocab_map[word])\n",
    "\n",
    "                    for i, u in enumerate(word_ids):\n",
    "                        for j, v in enumerate(\n",
    "                                word_ids[max(i - window_size + 1, 0):i + window_size + 1]):            \n",
    "                            if i == j:\n",
    "                                continue\n",
    "                            word_pair_catch.append((u, v))\n",
    "\n",
    "                    for _ in range(len(word_pair_catch)):\n",
    "                        _pair = word_pair_catch.popleft()\n",
    "\n",
    "                        self.center_words.append(_pair[0])\n",
    "                        self.context_words.append(_pair[1])\n",
    "\n",
    "                        \n",
    "    def __getitem__(self, index):\n",
    "        if self.transform:\n",
    "            self.center_words = np.array(self.center_words).reshape(-1,1)\n",
    "            self.context_words = np.array(self.context_words).reshape(-1,1)\n",
    "            \n",
    "            return self.transform(self.center_words[index], self.context_words[index])\n",
    "\n",
    "    def __len__(self):\n",
    "        return len(self.center_words)"
   ]
  },
  {
   "cell_type": "markdown",
   "metadata": {},
   "source": [
    "This class will be used as a \"transform\" in Pytorchs' DataLoader - it will transform the data into Tensors"
   ]
  },
  {
   "cell_type": "code",
   "execution_count": 10,
   "metadata": {},
   "outputs": [],
   "source": [
    "class ToTensor(object):\n",
    "    def __call__(self, center_words, context_words):\n",
    "        center_words = torch.from_numpy(center_words)\n",
    "        context_words = torch.from_numpy(context_words)      \n",
    "        \n",
    "        return center_words, context_words"
   ]
  },
  {
   "cell_type": "markdown",
   "metadata": {},
   "source": [
    "<a id='loss'></a>\n",
    "## Loss Function"
   ]
  },
  {
   "cell_type": "markdown",
   "metadata": {},
   "source": [
    "The average **Negative Log-Likelihood** will be used and is given by:"
   ]
  },
  {
   "cell_type": "markdown",
   "metadata": {},
   "source": [
    "$$ - \\frac{1}{T}  \\sum_{t=1}^T  \\: \\sum_{-c<=j<c, j\\neq0} \\:\\text{log} \\: p( {w_{t+j}|w_{t}} ) $$ "
   ]
  },
  {
   "cell_type": "markdown",
   "metadata": {},
   "source": [
    "$$ Where: \\text{log} \\: p( {w_{t+j}|w_{t}} ) = J_\\theta $$ "
   ]
  },
  {
   "cell_type": "markdown",
   "metadata": {},
   "source": [
    "$$ J_\\theta = \\text{log}\\frac{\\exp(h \\times v_{w_O}^\\top)}{\\sum_{i=1}^T \\exp(h \\times v_{w_i}^\\top)} $$"
   ]
  },
  {
   "cell_type": "markdown",
   "metadata": {},
   "source": [
    "Where: $$w_1, w_2, w_3, \\cdots, w_T$$ Are a sequence of T training words that belong to a vocabulary V. <br> \n",
    "$$h$$ Is the input word embedding indexed from the embedding matrix with d dimensions. <br>\n",
    "$$v_{w_O}$$ Is the output vector (embedding vector) for the context word\n",
    "\n",
    "The formula is adapted for the matrix shapes used in this notebook (x denotes batch matrix multiplication)"
   ]
  },
  {
   "cell_type": "markdown",
   "metadata": {},
   "source": [
    "<a id='model'></a>\n",
    "## SkipGram model"
   ]
  },
  {
   "cell_type": "code",
   "execution_count": 11,
   "metadata": {},
   "outputs": [],
   "source": [
    "random_seed = 777\n",
    "batch_size = 256\n",
    "emb_dimension = 3\n",
    "window_size = 3\n",
    "n_epochs = 10\n",
    "learning_rate = 0.01\n",
    "vocab_size = len(word2id)\n",
    "n_docs = 30"
   ]
  },
  {
   "cell_type": "markdown",
   "metadata": {},
   "source": [
    "#### Create dataset in batches for training"
   ]
  },
  {
   "cell_type": "code",
   "execution_count": 12,
   "metadata": {},
   "outputs": [],
   "source": [
    "imdb_dataset = GenerateDataset(window_size, word2id, n_docs, ToTensor(), random_seed)"
   ]
  },
  {
   "cell_type": "code",
   "execution_count": 13,
   "metadata": {},
   "outputs": [],
   "source": [
    "imdb_loader = DataLoader(imdb_dataset, \n",
    "                         batch_size=batch_size, \n",
    "                         shuffle=False,\n",
    "                         num_workers=0, \n",
    "                         drop_last=True)"
   ]
  },
  {
   "cell_type": "markdown",
   "metadata": {},
   "source": [
    "#### Architecture"
   ]
  },
  {
   "cell_type": "markdown",
   "metadata": {},
   "source": [
    "<img style=\"float: left;\" src=\"skip_gram_image.jpg\">"
   ]
  },
  {
   "cell_type": "markdown",
   "metadata": {},
   "source": [
    "Source: https://zhuanlan.zhihu.com/p/30099896"
   ]
  },
  {
   "cell_type": "markdown",
   "metadata": {},
   "source": [
    "Here to implement the above model we do:\n",
    "1. Embed the incoming center words (center_embeds)\n",
    "2. Embed the corresponding context pairs (target_pair_embeds)\n",
    "3. Embed all the words in the vocabulary (context_embeds)\n",
    "\n",
    "Then, recalling our **loss function**:\n",
    "$$ \\frac{1}{T}  \\sum_{t=1}^T  \\: \\sum_{-c<=j<c, j\\neq0} \\: \\text{log}\\frac{\\exp(h \\times v_{w_j}^\\top)}{\\sum_{i=1}^T \\exp(h \\times v_{w_i}^\\top)} $$\n",
    "\n",
    "5. We multiply **center_embeds** with **target_pair_embeds** --> This gives us the numerator of the loss function (similarity between center word and a given context word)\n",
    "6. We multiply **center_embeds** with **context_embeds** --> This gives us the denominator of the loss function (similarity between center word and a given context word, but here we do it for all the words in the corpus and sum the result)\n",
    "7. Divide **step 5** result by **step 6** result and apply the **log** (we get log_softmax)\n",
    "8. Calculate the average (here effectively it will be the average of the batch)"
   ]
  },
  {
   "cell_type": "code",
   "execution_count": 14,
   "metadata": {},
   "outputs": [],
   "source": [
    "class SkipGram_Model(nn.Module):\n",
    "    def __init__(self, vocab_map, vocab_size, emb_dimension, random_seed):\n",
    "        super(SkipGram_Model, self).__init__()\n",
    "        self.random_seed = random_seed\n",
    "        self.emb_dimension = emb_dimension\n",
    "        self.center_embeddings = nn.Embedding(vocab_size, emb_dimension, sparse=True)\n",
    "        self.context_embeddings = nn.Embedding(vocab_size, emb_dimension, sparse=True)\n",
    "        self.vocab_tensor = torch.from_numpy(np.array(list(vocab_map.values())).reshape(1,-1))\n",
    "        self.vocab_tensor = self.vocab_tensor.expand(batch_size, vocab_size) \n",
    "        if torch.cuda.is_available():\n",
    "            self.vocab_tensor = self.vocab_tensor.cuda()\n",
    "            \n",
    "        self.init_emb()\n",
    "        \n",
    "    def init_emb(self):\n",
    "        \"\"\"Initialize embedding weights like word2vec.\n",
    "        The center_embeddings is a uniform distribution in [-0.5/em_size, 0.5/emb_size], \n",
    "        and the elements of context_embeddings are zeros.\n",
    "        \"\"\"        \n",
    "        torch.manual_seed(self.random_seed)\n",
    "        initrange = 0.5 / self.emb_dimension\n",
    "        self.center_embeddings.weight.data.uniform_(-initrange, initrange)\n",
    "        self.context_embeddings.weight.data.uniform_(-0, 0)\n",
    "\n",
    "    def forward(self, center_words, context_words):       \n",
    "\n",
    "        center_embeds = self.center_embeddings(center_words)      # Batch x 1 x Emb Dim\n",
    "        target_pair_embeds = self.context_embeddings(context_words) # Batch x 1 x Emb Dim\n",
    "        context_embeds = self.context_embeddings(self.vocab_tensor) # Batch x vocab_size x Emb Dim                                   \n",
    "\n",
    "        scores = torch.bmm(center_embeds, \n",
    "                                   target_pair_embeds.transpose(1,2)).squeeze(-1) # Batch x 1\n",
    "\n",
    "        full_context_embeds = torch.bmm(center_embeds, \n",
    "                                        context_embeds.transpose(1,2)).squeeze(1) # Batch x vocab_size\n",
    "        \n",
    "        log_softmax = torch.log(torch.exp(scores)/torch.sum(torch.exp(full_context_embeds), 1).unsqueeze(1))\n",
    "        nll = -torch.mean(log_softmax)        \n",
    "\n",
    "        return nll\n",
    "    \n",
    "    def return_embeds(self):\n",
    "        word_embeds = self.center_embeddings.weight.cpu().data.numpy()\n",
    "        \n",
    "        return word_embeds    "
   ]
  },
  {
   "cell_type": "markdown",
   "metadata": {},
   "source": [
    "#### Instantiate model and optimizer"
   ]
  },
  {
   "cell_type": "code",
   "execution_count": 15,
   "metadata": {
    "scrolled": true
   },
   "outputs": [],
   "source": [
    "model = SkipGram_Model(word2id, vocab_size, emb_dimension, random_seed)\n",
    "optimizer = torch.optim.SparseAdam(model.parameters(), lr=learning_rate)"
   ]
  },
  {
   "cell_type": "markdown",
   "metadata": {},
   "source": [
    "#### Use GPU if available"
   ]
  },
  {
   "cell_type": "code",
   "execution_count": 16,
   "metadata": {},
   "outputs": [],
   "source": [
    "if torch.cuda.is_available():\n",
    "    model.cuda()"
   ]
  },
  {
   "cell_type": "markdown",
   "metadata": {},
   "source": [
    "<a id='train_model'></a>\n",
    "## Train the model"
   ]
  },
  {
   "cell_type": "code",
   "execution_count": 17,
   "metadata": {},
   "outputs": [],
   "source": [
    "def train_model(n_epochs, data_loader, model):\n",
    "    plot_train = []\n",
    "    save_loss = []\n",
    "    \n",
    "    for epoch in range(n_epochs):\n",
    "        start = time()\n",
    "        losses = []\n",
    "        for batch_idx, (center_words, context_words) in enumerate(data_loader):\n",
    "\n",
    "            ##### Use GPU if available #####\n",
    "            if torch.cuda.is_available():\n",
    "                center_words = center_words.cuda()\n",
    "                context_words = context_words.cuda()\n",
    "\n",
    "            # forward, backward, apply gradients\n",
    "            optimizer.zero_grad()        \n",
    "            loss = model.forward(center_words, context_words)\n",
    "            loss.backward()\n",
    "            optimizer.step()                          \n",
    "\n",
    "            # save loss\n",
    "            losses.append(loss.item())\n",
    "        end = time()\n",
    "        save_loss.append(np.mean(losses))\n",
    "        \n",
    "        if epoch%1 == 0:\n",
    "            print('epoch {}, epoch_loss {}, runtime {}'.format(epoch, np.mean(losses), end-start))\n",
    "\n",
    "    \n",
    "    pd.Series(save_loss).plot()              "
   ]
  },
  {
   "cell_type": "code",
   "execution_count": 18,
   "metadata": {
    "scrolled": false
   },
   "outputs": [
    {
     "name": "stdout",
     "output_type": "stream",
     "text": [
      "epoch 0, epoch_loss 10.109540753248261, runtime 190.23959064483643\n",
      "epoch 1, epoch_loss 8.033014502951769, runtime 190.26353096961975\n",
      "epoch 2, epoch_loss 7.430593387867377, runtime 189.8552656173706\n",
      "epoch 3, epoch_loss 7.013319597011659, runtime 189.90188670158386\n",
      "epoch 4, epoch_loss 6.686399440455243, runtime 189.85353803634644\n",
      "epoch 5, epoch_loss 6.441255769109338, runtime 189.87725687026978\n",
      "epoch 6, epoch_loss 6.259713432653164, runtime 189.77540111541748\n",
      "epoch 7, epoch_loss 6.143945916881406, runtime 189.9020538330078\n",
      "epoch 8, epoch_loss 6.082356604134164, runtime 189.84843158721924\n",
      "epoch 9, epoch_loss 6.0483185333934255, runtime 189.8670358657837\n"
     ]
    },
    {
     "data": {
      "image/png": "[encoded data removed]",
      "text/plain": [
       "<Figure size 432x288 with 1 Axes>"
      ]
     },
     "metadata": {},
     "output_type": "display_data"
    }
   ],
   "source": [
    "train_model(n_epochs, imdb_loader, model)"
   ]
  },
  {
   "cell_type": "markdown",
   "metadata": {},
   "source": [
    "<a id='eval_embeds'></a>\n",
    "## Evaluate Embeddings quality"
   ]
  },
  {
   "cell_type": "code",
   "execution_count": 19,
   "metadata": {},
   "outputs": [],
   "source": [
    "def get_encoding(word, word_dict, embedding):\n",
    "    return embedding[word2id[word]]"
   ]
  },
  {
   "cell_type": "code",
   "execution_count": 20,
   "metadata": {},
   "outputs": [],
   "source": [
    "def word_similarity(word1, word2):\n",
    "    params = {\"word_dict\":word2id, \n",
    "              \"embedding\":model.return_embeds()}\n",
    "    v1 = get_encoding(word1, **params)\n",
    "    v2 = get_encoding(word2, **params)\n",
    "    res = 1 - cosine(v1,v2)\n",
    "    return res"
   ]
  },
  {
   "cell_type": "code",
   "execution_count": 21,
   "metadata": {},
   "outputs": [],
   "source": [
    "def word_scatter(xs, labels,fontsize=14):\n",
    "    for i, t in enumerate(labels):\n",
    "        plt.annotate(t,xs[i],fontsize=fontsize)"
   ]
  },
  {
   "cell_type": "code",
   "execution_count": 22,
   "metadata": {},
   "outputs": [],
   "source": [
    "pca = PCA(n_components=2)"
   ]
  },
  {
   "cell_type": "markdown",
   "metadata": {},
   "source": [
    "#### Word similarity"
   ]
  },
  {
   "cell_type": "code",
   "execution_count": 23,
   "metadata": {},
   "outputs": [
    {
     "data": {
      "text/plain": [
       "Text(0.5,1,'PCA transformation of word vector')"
      ]
     },
     "execution_count": 23,
     "metadata": {},
     "output_type": "execute_result"
    },
    {
     "data": {
      "image/png": "[encoded data removed]",
      "text/plain": [
       "<Figure size 720x720 with 1 Axes>"
      ]
     },
     "metadata": {},
     "output_type": "display_data"
    }
   ],
   "source": [
    "plt.figure(figsize=[10,10])\n",
    "labels = 'man woman boy girl actor actress waitress male female gentleman lady father mother uncle aunt king queen'.split()\n",
    "\n",
    "coords = [word2id[w] for w in labels]\n",
    "coords = (model.return_embeds()[coords,:]\n",
    "\n",
    "y_scatter = pca.fit_transform(coords)\n",
    "plt.scatter(y_scatter[:,0], y_scatter[:,1])\n",
    "word_scatter(y_scatter, labels)\n",
    "\n",
    "for i in range(0,y_scatter.shape[0],2):\n",
    "    plt.plot(y_scatter[i:i+2,0],y_scatter[i:i+2,1],'black')\n",
    "          \n",
    "plt.title('PCA transformation of word vector')"
   ]
  },
  {
   "cell_type": "code",
   "execution_count": 24,
   "metadata": {},
   "outputs": [
    {
     "name": "stdout",
     "output_type": "stream",
     "text": [
      "nice good 0.8768650889396667\n",
      "dog cat 0.1568123698234558\n",
      "dog animal -0.7843129634857178\n",
      "cat animal 0.39451807737350464\n",
      "good fantastic 0.8710890412330627\n",
      "good terrible 0.9093095660209656\n",
      "mother father 0.9917430877685547\n",
      "king queen -0.8747478723526001\n",
      "boy girl 0.9702117443084717\n",
      "hate love 0.3045463263988495\n",
      "ugly beautiful 0.43248552083969116\n",
      "angry happy 0.4419500231742859\n",
      "do did 0.9942993521690369\n",
      "do does 0.9706856608390808\n",
      "do done 0.9681901335716248\n"
     ]
    }
   ],
   "source": [
    "print('nice','good', word_similarity('nice','good'))\n",
    "print('dog','cat', word_similarity('dog','cat'))\n",
    "print('dog','animal', word_similarity('dog','animal'))\n",
    "print('cat','animal', word_similarity('cat','animal'))\n",
    "print('good','fantastic', word_similarity('good','fantastic'))\n",
    "print('good','terrible', word_similarity('good','terrible'))\n",
    "print('mother','father', word_similarity('mother','father'))\n",
    "print('king','queen', word_similarity('king','queen'))\n",
    "print('boy','girl', word_similarity('boy','girl'))\n",
    "print('hate','love', word_similarity('hate','love'))\n",
    "print('ugly','beautiful', word_similarity('ugly','beautiful'))\n",
    "print('angry','happy', word_similarity('angry','happy'))\n",
    "print('do','did', word_similarity('do','did'))\n",
    "print('do','does', word_similarity('do','does'))\n",
    "print('do','done', word_similarity('do','done'))"
   ]
  },
  {
   "cell_type": "code",
   "execution_count": null,
   "metadata": {},
   "outputs": [],
   "source": []
  },
  {
   "cell_type": "code",
   "execution_count": null,
   "metadata": {},
   "outputs": [],
   "source": []
  },
  {
   "cell_type": "code",
   "execution_count": null,
   "metadata": {},
   "outputs": [],
   "source": []
  },
  {
   "cell_type": "markdown",
   "metadata": {},
   "source": [
    "#### test examples"
   ]
  },
  {
   "cell_type": "markdown",
   "metadata": {},
   "source": [
    "for idx, (center_words, context_words) in enumerate(imdb_loader):\n",
    "    if idx==0:        \n",
    "        torch.manual_seed(random_seed)\n",
    "        \n",
    "        vocab_tensor = torch.from_numpy(np.array(list(word2id.values())).reshape(1,-1))\n",
    "        vocab_tensor = vocab_tensor.expand(batch_size, vocab_size)        \n",
    "\n",
    "        emb_dimension = emb_dimension\n",
    "        center_embeddings = nn.Embedding(vocab_size, emb_dimension, sparse=True)\n",
    "        context_embeddings = nn.Embedding(vocab_size, emb_dimension, sparse=True)\n",
    "\n",
    "        center_embeds = center_embeddings(center_words)      # Batch x 1 x Emb Dim\n",
    "        target_pair_embeds = context_embeddings(context_words) # Batch x 1 x Emb Dim\n",
    "        context_embeds = context_embeddings(vocab_tensor)      # Batch x vocab_size x Emb Dim                                   \n",
    "\n",
    "        scores = torch.bmm(center_embeds, \n",
    "                                   target_pair_embeds.transpose(1,2)).squeeze(-1) # Batch x 1\n",
    "        \n",
    "        full_context_embeds = torch.bmm(center_embeds, \n",
    "                                        context_embeds.transpose(1,2)).squeeze(1) # Batch x vocab_size\n",
    "        \n",
    "        print(\"Center word embedding\")\n",
    "        print(center_embeds.size())\n",
    "        print(center_embeds)\n",
    "        print([id2word[j[0]] for j in list(center_words[:5].numpy())])\n",
    "        print()\n",
    "        print(\"Target word embeddings\")\n",
    "        print(target_pair_embeds.size())\n",
    "        print(target_pair_embeds)\n",
    "        print()\n",
    "        print(\"context_embeds\")\n",
    "        print(context_embeds.size())\n",
    "        print(context_embeds)\n",
    "        print([id2word[j[0]] for j in list(context_words[:5].numpy())])\n",
    "        print()\n",
    "        \n",
    "        for i in range(1):\n",
    "            print(torch.dot(center_embeds[0].squeeze(), target_pair_embeds[0][i].squeeze()).item())\n",
    "            \n",
    "        print()\n",
    "        \n",
    "        for i in range(1):\n",
    "            print(torch.dot(center_embeds[1].squeeze(), target_pair_embeds[1][i].squeeze()).item())        \n",
    "         \n",
    "        print()\n",
    "        \n",
    "        for i in range(6):\n",
    "            print(torch.dot(center_embeds[0].squeeze(), context_embeds[0][i].squeeze()).item())        \n",
    "        print()  \n",
    "        \n",
    "        for i in range(6):\n",
    "            print(torch.dot(center_embeds[1].squeeze(), context_embeds[0][i].squeeze()).item())        \n",
    "        print()        \n",
    "        \n",
    "        print(full_context_embeds)\n",
    "\n",
    "    else:\n",
    "        break"
   ]
  }
 ],
 "metadata": {
  "kernelspec": {
   "display_name": "Python 3",
   "language": "python",
   "name": "python3"
  },
  "language_info": {
   "codemirror_mode": {
    "name": "ipython",
    "version": 3
   },
   "file_extension": ".py",
   "mimetype": "text/x-python",
   "name": "python",
   "nbconvert_exporter": "python",
   "pygments_lexer": "ipython3",
   "version": "3.6.6"
  }
 },
 "nbformat": 4,
 "nbformat_minor": 2
}
