{
 "cells": [
  {
   "cell_type": "markdown",
   "metadata": {},
   "source": [
    "# Word2Vec"
   ]
  },
  {
   "cell_type": "markdown",
   "metadata": {},
   "source": [
    "# Skip-Gram Model - Negative Sampling"
   ]
  },
  {
   "cell_type": "markdown",
   "metadata": {},
   "source": [
    "## Table of Contents"
   ]
  },
  {
   "cell_type": "markdown",
   "metadata": {},
   "source": [
    "1. **[Import Corpus for inspection](#import_corpus)**\n",
    "\n",
    "    - [Corpus sample](#corpus_sample)    \n",
    "    \n",
    "2. **[Vocabulary word-ID mappings](#word2id)**\n",
    "\n",
    "3. **[Negative Sampling](#neg_sampling)**\n",
    "\n",
    "4. **[Generate training samples](#generate_samples)**\n",
    "\n",
    "5. **[Loss Function](#loss)**\n",
    "\n",
    "6. **[SkipGram model - Negative Sampling](#model)**\n",
    "\n",
    "7. **[Train the model](#train_model)**\n",
    "\n",
    "8. **[Evaluate Embeddings quality](#eval_embeds)**"
   ]
  },
  {
   "cell_type": "markdown",
   "metadata": {},
   "source": [
    "Adapted from: <br>\n",
    "https://adoni.github.io/2017/11/08/word2vec-pytorch/ <br>\n",
    "https://github.com/Adoni/word2vec_pytorch/blob/master/model.py <br>\n",
    "https://github.com/fanglanting/skip-gram-pytorch/blob/master/model.py<br>\n",
    "http://mccormickml.com/2016/04/19/word2vec-tutorial-the-skip-gram-model/<br>\n",
    "http://mccormickml.com/2017/01/11/word2vec-tutorial-part-2-negative-sampling/ <br>\n",
    "https://github.com/udacity/deep-learning/blob/master/embeddings/Skip-Grams-Solution.ipynb <br>\n",
    "https://towardsdatascience.com/implementing-word2vec-in-pytorch-skip-gram-model-e6bae040d2fb - (good intuition on what the softmax is doing)\n",
    "https://gist.github.com/lirnli/c6e02efc414b4473abbb8152d303514c <br>\n",
    "https://github.com/LianHaiMiao/pytorch-lesson-zh/blob/master/NLP/py/word2vec.py <br>\n",
    "http://ruder.io/word-embeddings-softmax/ <br>\n",
    "https://arxiv.org/pdf/1411.2738.pdf"
   ]
  },
  {
   "cell_type": "code",
   "execution_count": 1,
   "metadata": {},
   "outputs": [
    {
     "name": "stderr",
     "output_type": "stream",
     "text": [
      "/home/hveiga/Desktop/Data_Science/dl-venv/lib/python3.6/importlib/_bootstrap.py:219: RuntimeWarning: numpy.dtype size changed, may indicate binary incompatibility. Expected 96, got 88\n",
      "  return f(*args, **kwds)\n",
      "/home/hveiga/Desktop/Data_Science/dl-venv/lib/python3.6/importlib/_bootstrap.py:219: RuntimeWarning: numpy.dtype size changed, may indicate binary incompatibility. Expected 96, got 88\n",
      "  return f(*args, **kwds)\n",
      "/home/hveiga/Desktop/Data_Science/dl-venv/lib/python3.6/importlib/_bootstrap.py:219: RuntimeWarning: numpy.ufunc size changed, may indicate binary incompatibility. Expected 192, got 176\n",
      "  return f(*args, **kwds)\n",
      "/home/hveiga/Desktop/Data_Science/dl-venv/lib/python3.6/importlib/_bootstrap.py:219: RuntimeWarning: numpy.dtype size changed, may indicate binary incompatibility. Expected 96, got 88\n",
      "  return f(*args, **kwds)\n",
      "/home/hveiga/Desktop/Data_Science/dl-venv/lib/python3.6/importlib/_bootstrap.py:219: RuntimeWarning: numpy.ufunc size changed, may indicate binary incompatibility. Expected 192, got 176\n",
      "  return f(*args, **kwds)\n"
     ]
    }
   ],
   "source": [
    "import os\n",
    "from time import time\n",
    "%matplotlib inline\n",
    "%load_ext memory_profiler\n",
    "import itertools\n",
    "from scipy.spatial.distance import cosine\n",
    "from matplotlib import pyplot as plt\n",
    "import numpy as np\n",
    "import pandas as pd\n",
    "from collections import deque\n",
    "import torch\n",
    "from torch import nn, optim\n",
    "from torch.autograd import Variable\n",
    "from torch.utils.data import Dataset, DataLoader, TensorDataset\n",
    "from torch.nn import functional as F\n",
    "\n",
    "from glob import glob\n",
    "from nltk.corpus import stopwords\n",
    "import spacy\n",
    "nlp = spacy.load('en')\n",
    "from nltk.tokenize import word_tokenize\n",
    "from nltk import FreqDist"
   ]
  },
  {
   "cell_type": "markdown",
   "metadata": {},
   "source": [
    "<a id='import_corpus'></a>\n",
    "## Import corpus for inspection"
   ]
  },
  {
   "cell_type": "code",
   "execution_count": 2,
   "metadata": {},
   "outputs": [],
   "source": [
    "path = './aclImdb/train/pos/*.txt'\n",
    "text = \"\"\n",
    "\n",
    "for filename in glob(path):\n",
    "    with open(filename,'r') as f:\n",
    "        text += \" \" + f.read()\n",
    "              \n",
    "#with open(\"./aclImdb/corpus_all_pos.txt\", \"w+\") as f:\n",
    "#    f.write(text[:75000])\n",
    "#    f.close()"
   ]
  },
  {
   "cell_type": "code",
   "execution_count": 3,
   "metadata": {
    "scrolled": true
   },
   "outputs": [],
   "source": [
    "corpus = [token.text for token in list(nlp.tokenizer(text[:50000]))]\n",
    "# stop_words = set(stopwords.words('english'))\n",
    "# corpus = [w for w in corpus if w not in stop_words]"
   ]
  },
  {
   "cell_type": "markdown",
   "metadata": {},
   "source": [
    "<a id='corpus_sample'></a>\n",
    "### Corpus sample"
   ]
  },
  {
   "cell_type": "code",
   "execution_count": 4,
   "metadata": {},
   "outputs": [
    {
     "name": "stdout",
     "output_type": "stream",
     "text": [
      "length of texts:  10308\n",
      "number of unique words: 2766\n",
      "a sample below\n"
     ]
    },
    {
     "data": {
      "text/plain": [
       "[' ', 'I', \"'m\", 'grateful', 'to', 'Cesar', 'Montano', 'and', 'his', 'crew']"
      ]
     },
     "execution_count": 4,
     "metadata": {},
     "output_type": "execute_result"
    }
   ],
   "source": [
    "print('length of texts: ', len(corpus))\n",
    "print('number of unique words:', len(set(corpus)))\n",
    "print('a sample below')\n",
    "corpus[:10]"
   ]
  },
  {
   "cell_type": "markdown",
   "metadata": {},
   "source": [
    "### 20 most frequent words (tokens)"
   ]
  },
  {
   "cell_type": "code",
   "execution_count": 5,
   "metadata": {},
   "outputs": [
    {
     "data": {
      "image/png": "[encoded data removed]",
      "text/plain": [
       "<Figure size 864x288 with 1 Axes>"
      ]
     },
     "metadata": {},
     "output_type": "display_data"
    }
   ],
   "source": [
    "dist = FreqDist(corpus)\n",
    "dist.most_common(20)\n",
    "plt.figure(figsize=[12,4])\n",
    "dist.plot(20)"
   ]
  },
  {
   "cell_type": "code",
   "execution_count": 6,
   "metadata": {},
   "outputs": [
    {
     "name": "stdout",
     "output_type": "stream",
     "text": [
      "number of words occurred only once 1862\n"
     ]
    }
   ],
   "source": [
    "words_occurred_only_once = [w for w in dist.most_common() if w[1]==1]\n",
    "print('number of words occurred only once', len(words_occurred_only_once))"
   ]
  },
  {
   "cell_type": "markdown",
   "metadata": {},
   "source": [
    "### Frequency with respects to word count"
   ]
  },
  {
   "cell_type": "markdown",
   "metadata": {},
   "source": [
    "In the plot below, most words in the vocabulary occurrs less than 5 times."
   ]
  },
  {
   "cell_type": "code",
   "execution_count": 7,
   "metadata": {},
   "outputs": [
    {
     "data": {
      "image/png": "[encoded data removed]",
      "text/plain": [
       "<Figure size 864x288 with 1 Axes>"
      ]
     },
     "metadata": {},
     "output_type": "display_data"
    }
   ],
   "source": [
    "occurr_dist = FreqDist([w[1] for w in dist.most_common()])\n",
    "plt.figure(figsize=[12,4])\n",
    "occurr_dist.plot(50)"
   ]
  },
  {
   "cell_type": "code",
   "execution_count": 8,
   "metadata": {},
   "outputs": [
    {
     "name": "stdout",
     "output_type": "stream",
     "text": [
      "words occurred <= 5 times in corpus: 0.030730296456977585\n"
     ]
    }
   ],
   "source": [
    "percent = sum([w[1] for w in occurr_dist.most_common() if w[1]<=5])/sum([w[1] for w in occurr_dist.most_common()])\n",
    "print('words occurred <= 5 times in corpus:',percent)"
   ]
  },
  {
   "cell_type": "markdown",
   "metadata": {},
   "source": [
    "<a id='word2id'></a>\n",
    "## Vocabulary word-ID mappings"
   ]
  },
  {
   "cell_type": "code",
   "execution_count": 9,
   "metadata": {},
   "outputs": [],
   "source": [
    "# Word frequency\n",
    "word_frequency = dict(FreqDist(corpus))"
   ]
  },
  {
   "cell_type": "code",
   "execution_count": 10,
   "metadata": {},
   "outputs": [],
   "source": [
    "# Word - ID mapping\n",
    "word2id = {}\n",
    "for filename in glob(path):\n",
    "    with open(filename,'r') as f:      \n",
    "        for line in f: \n",
    "            tokens = word_tokenize(line)\n",
    "\n",
    "            if word2id:\n",
    "                word2id.update({word:0 for word in tokens})\n",
    "            else:\n",
    "                word2id = {word:0 for word in tokens}\n",
    "\n",
    "for i, (word, value) in enumerate(list(word2id.items())):\n",
    "    word2id[word] = i"
   ]
  },
  {
   "cell_type": "code",
   "execution_count": 11,
   "metadata": {},
   "outputs": [],
   "source": [
    "id2word = {i: word for word, i in word2id.items()}\n",
    "#word_count = len(word2id)"
   ]
  },
  {
   "cell_type": "markdown",
   "metadata": {},
   "source": [
    "<a id='neg_sampling'></a>\n",
    "## Negative Sampling"
   ]
  },
  {
   "cell_type": "markdown",
   "metadata": {},
   "source": [
    "The “negative samples” (that is, the c output words that we’ll train to output 0) are chosen using a “unigram distribution”.\n",
    "\n",
    "Essentially, the probability for selecting a word as a negative sample is related to its frequency, with more frequent words being more likely to be selected as negative samples.\n",
    "\n",
    "In the word2vec C implementation, you can see the equation for this probability. Each word is given a weight equal to it’s frequency (word count) raised to the 3/4 power. The probability for a selecting a word is just it’s weight divided by the sum of weights for all words:\n",
    "\n",
    "$$P(w_i) = \\frac{  {f(w_i)}^{3/4}  }{\\sum_{j=0}^{n}\\left(  {f(w_j)}^{3/4} \\right) }$$"
   ]
  },
  {
   "cell_type": "code",
   "execution_count": 12,
   "metadata": {},
   "outputs": [],
   "source": [
    "# Probability for a given word i in the corpus\n",
    "pow_frequency = np.array(list(word_frequency.values()))**0.75\n",
    "words_pow = sum(pow_frequency) \n",
    "p_wi = pow_frequency / words_pow"
   ]
  },
  {
   "cell_type": "markdown",
   "metadata": {},
   "source": [
    "This is the way Word2Vec C code implemented choosing negative samples. <br>\n",
    "They have a large array with 100M elements (which they refer to as the unigram table). They fill this table with the index of each word in the vocabulary multiple times - the number of times a word’s index appears in the table is given by **P(wi) * table_size**. <br>\n",
    "Then, to actually select a negative sample, you just generate a random integer between 0 and 100M, and use the word at that index in the table. <br>\n",
    "Since the higher probability words occur more times in the table, you’re more likely to pick those.\n",
    "\n",
    "Source: http://mccormickml.com/2017/01/11/word2vec-tutorial-part-2-negative-sampling/"
   ]
  },
  {
   "cell_type": "code",
   "execution_count": 13,
   "metadata": {},
   "outputs": [],
   "source": [
    "sample_table = []\n",
    "sample_table_size = 1e8 # empty 100 million array\n",
    "\n",
    "# Generate \"unigram\" table\n",
    "count = np.round(p_wi * sample_table_size) # number of times a word’s index will appear in the table\n",
    "\n",
    "# Fill the table \n",
    "for wid, c in enumerate(count):\n",
    "    sample_table += [wid] * int(c)\n",
    "    \n",
    "sample_table = np.array(sample_table)"
   ]
  },
  {
   "cell_type": "markdown",
   "metadata": {},
   "source": [
    "#### Class to generate samples"
   ]
  },
  {
   "cell_type": "markdown",
   "metadata": {},
   "source": [
    "This will generate 3 matrices: <br><br>\n",
    "**center_words** - list of center (input) word IDs - batch x 1 <br>\n",
    "**positive_words** - list of positive context (neighbour) word IDs - batch x 1 <br>\n",
    "**negative_words** - list of negative words IDs (not in the specified window size) - batch x context size"
   ]
  },
  {
   "cell_type": "markdown",
   "metadata": {},
   "source": [
    "<a id='generate_samples'></a>\n",
    "## Generate training samples"
   ]
  },
  {
   "cell_type": "code",
   "execution_count": 14,
   "metadata": {},
   "outputs": [],
   "source": [
    "class GenerateDataset(Dataset):\n",
    "    def __init__(self, window_size, vocab_map, sample_table, n_docs, transform=None, random_seed=777):\n",
    "        \n",
    "        word_pair_catch = deque()\n",
    "        word_ids = []\n",
    "        self.center_words = []\n",
    "        self.positive_words = []\n",
    "        self.transform = transform\n",
    "        \n",
    "        np.random.seed(random_seed)\n",
    "        torch.manual_seed(random_seed)\n",
    "                \n",
    "        for filename in glob(path)[:n_docs]:\n",
    "            with open(filename,'r') as f:\n",
    "                for line in f:\n",
    "                    word_ids = []\n",
    "                    for word in word_tokenize(line):\n",
    "                        word_ids.append(vocab_map[word])\n",
    "\n",
    "                    for i, u in enumerate(word_ids):\n",
    "                        for j, v in enumerate(\n",
    "                                word_ids[max(i - window_size + 1, 0):i + window_size + 1]):            \n",
    "                            if i == j:\n",
    "                                continue\n",
    "                            word_pair_catch.append((u, v))\n",
    "\n",
    "                    for _ in range(len(word_pair_catch)):\n",
    "                        _pair = word_pair_catch.popleft()\n",
    "\n",
    "                        self.center_words.append(_pair[0])\n",
    "                        self.positive_words.append(_pair[1])\n",
    "\n",
    "                    self.neg_words = np.random.choice(\n",
    "                        sample_table, size=((len(self.center_words)), window_size))\n",
    "\n",
    "                        \n",
    "    def __getitem__(self, index):\n",
    "        if self.transform:\n",
    "            self.center_words = np.array(self.center_words).reshape(-1,1)\n",
    "            self.positive_words = np.array(self.positive_words).reshape(-1,1)\n",
    "            self.neg_words = np.array(self.neg_words) \n",
    "            \n",
    "            return self.transform(self.center_words[index], self.positive_words[index], self.neg_words[index])\n",
    "\n",
    "    def __len__(self):\n",
    "        return len(self.center_words)"
   ]
  },
  {
   "cell_type": "code",
   "execution_count": 15,
   "metadata": {},
   "outputs": [],
   "source": [
    "class ToTensor(object):\n",
    "    def __call__(self, center_words, positive_words, neg_words):\n",
    "        center_words = torch.from_numpy(center_words)\n",
    "        positive_words = torch.from_numpy(positive_words)\n",
    "        negative_words = torch.from_numpy(neg_words)       \n",
    "        \n",
    "        return center_words, positive_words, negative_words"
   ]
  },
  {
   "cell_type": "markdown",
   "metadata": {},
   "source": [
    "<a id='loss'></a>\n",
    "## Loss Function"
   ]
  },
  {
   "cell_type": "markdown",
   "metadata": {},
   "source": [
    "The **Negative Sampling Loss** to be used is given by:"
   ]
  },
  {
   "cell_type": "markdown",
   "metadata": {},
   "source": [
    "$$ \\frac{1}{T}  \\sum_{t=1}^T  \\: \\sum_{-c<=j<c, j\\neq0} \\:\\text{log} \\: p( {w_{t+j}|w_{t}} ) $$ "
   ]
  },
  {
   "cell_type": "markdown",
   "metadata": {},
   "source": [
    "$$ Where: \\text{log} \\: p( {w_{t+j}|w_{t}} ) = J_\\theta $$ "
   ]
  },
  {
   "cell_type": "markdown",
   "metadata": {},
   "source": [
    "$$J_\\theta = \\sum_{w_i \\in V} [ \\text{log} \\: \\sigma(h \\times v_{w_O}^\\top ) + \\: \\sum_{j=1}^k \\:\\text{log} \\: \\sigma(h \\times -v_{w_j}^\\top)]$$ \n",
    "\n",
    "Sources: <br>\n",
    "https://arxiv.org/pdf/1411.2738.pdf <br>\n",
    "https://papers.nips.cc/paper/5021-distributed-representations-of-words-and-phrases-and-their-compositionality.pdf"
   ]
  },
  {
   "cell_type": "markdown",
   "metadata": {},
   "source": [
    "Where: $$w_1, w_2, w_3, \\cdots, w_T$$ Are a sequence of T training words that belong to a vocabulary V. <br> \n",
    "$$h$$ Is the input word embedding indexed from the embedding matrix with d dimensions. <br>\n",
    "$$v_{w_O}$$ Is the output vector (embedding vector) for the output word (positive context target word) \n",
    "$$v_{w_j}$$ Is the output vector (embedding vector) for the output word (from j=1 to k negative context words) \n",
    "\n",
    "The formula is adapted for the matrix shapes used in this notebook (x denotes batch matrix multiplication)"
   ]
  },
  {
   "cell_type": "markdown",
   "metadata": {},
   "source": [
    "<a id='model'></a>\n",
    "## SkipGram model - Negative Sampling"
   ]
  },
  {
   "cell_type": "code",
   "execution_count": 57,
   "metadata": {},
   "outputs": [],
   "source": [
    "random_seed = 777\n",
    "batch_size = 256\n",
    "emb_dimension = 3\n",
    "window_size = 5\n",
    "n_epochs = 10\n",
    "learning_rate = 0.01\n",
    "vocab_size = len(word2id)\n",
    "n_docs = 20"
   ]
  },
  {
   "cell_type": "markdown",
   "metadata": {},
   "source": [
    "#### Create samples for training and place it in batches"
   ]
  },
  {
   "cell_type": "code",
   "execution_count": 58,
   "metadata": {},
   "outputs": [],
   "source": [
    "imdb_dataset = GenerateDataset(window_size, word2id, sample_table, n_docs, ToTensor(), random_seed)"
   ]
  },
  {
   "cell_type": "code",
   "execution_count": 59,
   "metadata": {},
   "outputs": [],
   "source": [
    "imdb_loader = DataLoader(imdb_dataset, \n",
    "                         batch_size=batch_size, \n",
    "                         shuffle=False,\n",
    "                         num_workers=0, \n",
    "                         drop_last=True)"
   ]
  },
  {
   "cell_type": "markdown",
   "metadata": {},
   "source": [
    "#### Architecture\n",
    "- Cross entropy here corresponds to binary cross entropy because our target will be 1/0 and not a probability distributiom as given by softmax\n",
    "- Instead of the whole vocabulary we'll have for each input/positive context word pair, K negative context words"
   ]
  },
  {
   "cell_type": "markdown",
   "metadata": {},
   "source": [
    "<img style=\"float: left;\" src=\"skip_gram_image.jpg\">"
   ]
  },
  {
   "cell_type": "code",
   "execution_count": 60,
   "metadata": {},
   "outputs": [],
   "source": [
    "class SkipGram_NegSamp_Model(nn.Module):\n",
    "    def __init__(self, vocab_size, emb_dimension, random_seed):\n",
    "        super(SkipGram_NegSamp_Model, self).__init__()\n",
    "        self.random_seed = random_seed\n",
    "        self.emb_dimension = emb_dimension\n",
    "        self.center_embeddings = nn.Embedding(vocab_size, emb_dimension, sparse=True)\n",
    "        self.context_embeddings = nn.Embedding(vocab_size, emb_dimension, sparse=True)\n",
    "        self.init_emb()\n",
    "        \n",
    "    def init_emb(self):\n",
    "        \"\"\"Initialize embedding weights like word2vec.\n",
    "        The u_embedding is a uniform distribution in [-0.5/em_size, 0.5/emb_size], \n",
    "        and the elements of v_embedding are zeros.\n",
    "        \"\"\"        \n",
    "        torch.manual_seed(self.random_seed)\n",
    "        initrange = 0.5 / self.emb_dimension\n",
    "        self.center_embeddings.weight.data.uniform_(-initrange, initrange)\n",
    "        self.context_embeddings.weight.data.uniform_(-0, 0)\n",
    "\n",
    "    def forward(self, center_words, positive_words, negative_words):       \n",
    "\n",
    "        center_embeds = self.center_embeddings(center_words)      # Batch x 1 x Emb Dim\n",
    "        positive_embeds = self.context_embeddings(positive_words) # Batch x 1 x Emb Dim\n",
    "        neg_embeds = - self.context_embeddings(negative_words)    # Batch x window_size x Emb Dim                                   \n",
    "\n",
    "        positive_score = torch.bmm(center_embeds, \n",
    "                                   positive_embeds.transpose(1,2)).squeeze(-1) # Batch x 1\n",
    "        positive_score = F.logsigmoid(positive_score)\n",
    "        \n",
    "        #positive_score = torch.mul(center_embeds, positive_embeds).squeeze()\n",
    "        #positive_score = torch.sum(positive_score, dim=1).unsqueeze(1) # This approach is way slower but uses less code\n",
    "\n",
    "        negative_score = torch.bmm(center_embeds, \n",
    "                                        neg_embeds.transpose(1,2)).squeeze(1) # Batch x window_size\n",
    "        negative_score = F.logsigmoid(negative_score)\n",
    "        negative_score = torch.sum(negative_score, 1).unsqueeze(1)\n",
    "        \n",
    "        loss = positive_score + negative_score\n",
    "\n",
    "        return - torch.mean(loss)\n",
    "    \n",
    "    def return_embeds(self):\n",
    "        word_embeds = self.center_embeddings.weight.cpu().data.numpy()\n",
    "        \n",
    "        return word_embeds     "
   ]
  },
  {
   "cell_type": "markdown",
   "metadata": {},
   "source": [
    "#### Instantiate model and optimizer"
   ]
  },
  {
   "cell_type": "code",
   "execution_count": 61,
   "metadata": {
    "scrolled": true
   },
   "outputs": [],
   "source": [
    "model = SkipGram_NegSamp_Model(vocab_size, emb_dimension, random_seed)\n",
    "optimizer = torch.optim.SparseAdam(model.parameters(), lr=learning_rate)"
   ]
  },
  {
   "cell_type": "markdown",
   "metadata": {},
   "source": [
    "#### Use GPU if available"
   ]
  },
  {
   "cell_type": "code",
   "execution_count": 62,
   "metadata": {},
   "outputs": [],
   "source": [
    "if torch.cuda.is_available():\n",
    "    model.cuda()"
   ]
  },
  {
   "cell_type": "markdown",
   "metadata": {},
   "source": [
    "<a id='train_model'></a>\n",
    "## Train the model"
   ]
  },
  {
   "cell_type": "code",
   "execution_count": 63,
   "metadata": {},
   "outputs": [],
   "source": [
    "def train_model(n_epochs, data_loader, model):\n",
    "    plot_train = []\n",
    "    save_loss = []\n",
    "    start_all = time()\n",
    "    \n",
    "    for epoch in range(n_epochs):\n",
    "        start = time()\n",
    "        losses = []\n",
    "        for batch_idx, (center_words, positive_words, negative_words) in enumerate(data_loader):\n",
    "\n",
    "            ##### Use GPU if available #####\n",
    "            if torch.cuda.is_available():\n",
    "                center_words = center_words.cuda()\n",
    "                positive_words = positive_words.cuda()\n",
    "                negative_words = negative_words.cuda()\n",
    "\n",
    "            # forward, backward, optimize\n",
    "            optimizer.zero_grad()        \n",
    "            loss = model.forward(center_words, positive_words, negative_words)\n",
    "            loss.backward()\n",
    "            optimizer.step()                          \n",
    "\n",
    "            # save loss\n",
    "            losses.append(loss.item())\n",
    "            \n",
    "        end = time()\n",
    "        save_loss.append(np.mean(losses))\n",
    "        \n",
    "        if epoch%1 == 0:\n",
    "            print('epoch {}, epoch_loss {}, runtime {}'.format(epoch, np.mean(losses), end-start))\n",
    "\n",
    "    \n",
    "    pd.Series(save_loss).plot() \n",
    "    print(\"Total runtime is: \" + str(time()-start_all) + \" seconds\")"
   ]
  },
  {
   "cell_type": "code",
   "execution_count": 64,
   "metadata": {
    "scrolled": false
   },
   "outputs": [
    {
     "name": "stdout",
     "output_type": "stream",
     "text": [
      "epoch 0, epoch_loss 3.5827098167482228, runtime 21.864196062088013\n",
      "epoch 1, epoch_loss 2.7114679416020713, runtime 21.508259296417236\n",
      "epoch 2, epoch_loss 2.4117616871256886, runtime 21.867342948913574\n",
      "epoch 3, epoch_loss 2.214143439084905, runtime 22.637658834457397\n",
      "epoch 4, epoch_loss 2.059821254922529, runtime 20.990020751953125\n",
      "epoch 5, epoch_loss 1.9379555904325634, runtime 20.96949338912964\n",
      "epoch 6, epoch_loss 1.8443673461553, runtime 21.069066047668457\n",
      "epoch 7, epoch_loss 1.7751728840816168, runtime 23.346020936965942\n",
      "epoch 8, epoch_loss 1.725844974871035, runtime 22.429303884506226\n",
      "epoch 9, epoch_loss 1.691459759027379, runtime 21.32530426979065\n",
      "Total runtime is: 218.02469658851624 seconds\n"
     ]
    },
    {
     "data": {
      "image/png": "[encoded data removed]",
      "text/plain": [
       "<Figure size 432x288 with 1 Axes>"
      ]
     },
     "metadata": {},
     "output_type": "display_data"
    }
   ],
   "source": [
    "train_model(n_epochs, imdb_loader, model)"
   ]
  },
  {
   "cell_type": "markdown",
   "metadata": {},
   "source": [
    "With **Negative sampling**, running the same 10 epochs, with 20 documents used, 3 dimensions in the embedding matrix AND with a context of 5 words (instead of the 3 used in the full softmax implementation) we are able to train in 1/5 of the time needed in the full softmax implementation (218 seconds vs 1121 seconds !)"
   ]
  },
  {
   "cell_type": "markdown",
   "metadata": {},
   "source": [
    "<a id='eval_embeds'></a>\n",
    "## Evaluate Embeddings quality"
   ]
  },
  {
   "cell_type": "code",
   "execution_count": 65,
   "metadata": {},
   "outputs": [],
   "source": [
    "def get_encoding(word, word_dict, embedding):\n",
    "    return embedding[word2id[word]]"
   ]
  },
  {
   "cell_type": "code",
   "execution_count": 66,
   "metadata": {},
   "outputs": [],
   "source": [
    "def word_similarity(word1, word2):\n",
    "    params = {\"word_dict\":word2id, \n",
    "              \"embedding\":model.return_embeds()}\n",
    "    v1 = get_encoding(word1, **params)\n",
    "    v2 = get_encoding(word2, **params)\n",
    "    res = 1 - cosine(v1,v2)\n",
    "    return res"
   ]
  },
  {
   "cell_type": "code",
   "execution_count": 67,
   "metadata": {},
   "outputs": [],
   "source": [
    "def word_scatter(xs, labels,fontsize=14):\n",
    "    for i, t in enumerate(labels):\n",
    "        plt.annotate(t,xs[i],fontsize=fontsize)"
   ]
  },
  {
   "cell_type": "code",
   "execution_count": 68,
   "metadata": {},
   "outputs": [],
   "source": [
    "from sklearn.decomposition import PCA\n",
    "pca = PCA(n_components=2)"
   ]
  },
  {
   "cell_type": "markdown",
   "metadata": {},
   "source": [
    "#### Word similarity"
   ]
  },
  {
   "cell_type": "code",
   "execution_count": 70,
   "metadata": {},
   "outputs": [
    {
     "data": {
      "text/plain": [
       "Text(0.5,1,'PCA transformation of word vector')"
      ]
     },
     "execution_count": 70,
     "metadata": {},
     "output_type": "execute_result"
    },
    {
     "data": {
      "image/png": "[encoded data removed]",
      "text/plain": [
       "<Figure size 720x720 with 1 Axes>"
      ]
     },
     "metadata": {},
     "output_type": "display_data"
    }
   ],
   "source": [
    "plt.figure(figsize=[10,10])\n",
    "labels = 'man woman boy girl actor actress waitress male female movie father mother brother king queen'.split()\n",
    "\n",
    "coords = [word2id[w] for w in labels]\n",
    "coords = (model.return_embeds()[coords,:])\n",
    "\n",
    "y_scatter = pca.fit_transform(coords)\n",
    "plt.scatter(y_scatter[:,0], y_scatter[:,1])\n",
    "word_scatter(y_scatter, labels)\n",
    "\n",
    "plt.title('PCA transformation of word vector')"
   ]
  },
  {
   "cell_type": "code",
   "execution_count": 71,
   "metadata": {},
   "outputs": [
    {
     "name": "stdout",
     "output_type": "stream",
     "text": [
      "nice good 0.9184310436248779\n",
      "dog cat 0.16394641995429993\n",
      "dog animal -0.782575786113739\n",
      "cat animal 0.39451807737350464\n",
      "good fantastic 0.9026537537574768\n",
      "good terrible 0.9314687252044678\n",
      "mother father 0.4523323178291321\n",
      "king queen -0.8747478723526001\n",
      "king aunt -0.6790049076080322\n",
      "boy girl -0.1729251742362976\n",
      "male female -0.9010016918182373\n",
      "hate love 0.23005308210849762\n",
      "ugly beautiful 0.47067710757255554\n",
      "angry happy 0.48282647132873535\n",
      "do did 0.9951828718185425\n",
      "do does 0.9956501722335815\n",
      "do done 0.9654949903488159\n"
     ]
    }
   ],
   "source": [
    "print('nice','good', word_similarity('nice','good'))\n",
    "print('dog','cat', word_similarity('dog','cat'))\n",
    "print('dog','animal', word_similarity('dog','animal'))\n",
    "print('cat','animal', word_similarity('cat','animal'))\n",
    "print('good','fantastic', word_similarity('good','fantastic'))\n",
    "print('good','terrible', word_similarity('good','terrible'))\n",
    "print('mother','father', word_similarity('mother','father'))\n",
    "print('king','queen', word_similarity('king','queen'))\n",
    "print('king','aunt', word_similarity('king','aunt'))\n",
    "print('boy','girl', word_similarity('boy','girl'))\n",
    "print('male','female', word_similarity('male','female'))\n",
    "print('hate','love', word_similarity('hate','love'))\n",
    "print('ugly','beautiful', word_similarity('ugly','beautiful'))\n",
    "print('angry','happy', word_similarity('angry','happy'))\n",
    "print('do','did', word_similarity('do','did'))\n",
    "print('do','does', word_similarity('do','does'))\n",
    "print('do','done', word_similarity('do','done'))"
   ]
  },
  {
   "cell_type": "code",
   "execution_count": null,
   "metadata": {},
   "outputs": [],
   "source": []
  }
 ],
 "metadata": {
  "kernelspec": {
   "display_name": "Python 3",
   "language": "python",
   "name": "python3"
  },
  "language_info": {
   "codemirror_mode": {
    "name": "ipython",
    "version": 3
   },
   "file_extension": ".py",
   "mimetype": "text/x-python",
   "name": "python",
   "nbconvert_exporter": "python",
   "pygments_lexer": "ipython3",
   "version": "3.6.6"
  }
 },
 "nbformat": 4,
 "nbformat_minor": 2
}
